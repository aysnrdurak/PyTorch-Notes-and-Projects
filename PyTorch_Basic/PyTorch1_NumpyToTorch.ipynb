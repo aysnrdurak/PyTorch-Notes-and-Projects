{
 "cells": [
  {
   "cell_type": "markdown",
   "id": "8b9e10c7-dc63-424b-a179-e731164a4334",
   "metadata": {},
   "source": [
    "# Numpy kütüphanesinden Pytorch Kütüphanesine Dönüşüm"
   ]
  },
  {
   "cell_type": "code",
   "execution_count": 1,
   "id": "6805d353-c2f7-4447-9b75-aa806ab7ae89",
   "metadata": {},
   "outputs": [],
   "source": [
    "import torch\n",
    "import numpy as np"
   ]
  },
  {
   "cell_type": "code",
   "execution_count": 2,
   "id": "7f3f205f-9640-480a-b2b0-3300efc2a21c",
   "metadata": {},
   "outputs": [
    {
     "data": {
      "text/plain": [
       "'1.1.0'"
      ]
     },
     "execution_count": 2,
     "metadata": {},
     "output_type": "execute_result"
    }
   ],
   "source": [
    "torch.__version__"
   ]
  },
  {
   "cell_type": "code",
   "execution_count": 3,
   "id": "d0b32bb6-b1b8-4c02-8f18-e4a91c4fb486",
   "metadata": {},
   "outputs": [],
   "source": [
    "arr = np.array([1,2,3,4])"
   ]
  },
  {
   "cell_type": "code",
   "execution_count": 4,
   "id": "46e9828a-90ce-465e-8b23-50c69a05ddf7",
   "metadata": {},
   "outputs": [
    {
     "data": {
      "text/plain": [
       "dtype('int32')"
      ]
     },
     "execution_count": 4,
     "metadata": {},
     "output_type": "execute_result"
    }
   ],
   "source": [
    "arr.dtype"
   ]
  },
  {
   "cell_type": "code",
   "execution_count": 5,
   "id": "25b1f6a5-bef4-4ce8-a24c-c483bee02754",
   "metadata": {},
   "outputs": [
    {
     "data": {
      "text/plain": [
       "numpy.ndarray"
      ]
     },
     "execution_count": 5,
     "metadata": {},
     "output_type": "execute_result"
    }
   ],
   "source": [
    "type(arr)"
   ]
  },
  {
   "cell_type": "code",
   "execution_count": 7,
   "id": "000090e7-3c3d-4870-90f7-7c1d119ec650",
   "metadata": {},
   "outputs": [],
   "source": [
    "torch_arr = torch.from_numpy(arr)"
   ]
  },
  {
   "cell_type": "code",
   "execution_count": 8,
   "id": "cde66e63-5f65-4c69-b985-f74e9485829b",
   "metadata": {},
   "outputs": [
    {
     "data": {
      "text/plain": [
       "tensor([1, 2, 3, 4], dtype=torch.int32)"
      ]
     },
     "execution_count": 8,
     "metadata": {},
     "output_type": "execute_result"
    }
   ],
   "source": [
    "torch_arr"
   ]
  },
  {
   "cell_type": "code",
   "execution_count": 14,
   "id": "044c1e0f-3c26-41f1-9789-8e9e03c559dc",
   "metadata": {},
   "outputs": [
    {
     "data": {
      "text/plain": [
       "torch.Tensor"
      ]
     },
     "execution_count": 14,
     "metadata": {},
     "output_type": "execute_result"
    }
   ],
   "source": [
    "type(torch_arr)"
   ]
  },
  {
   "cell_type": "code",
   "execution_count": 10,
   "id": "5415c5e3-9b50-4e5c-b71d-6ab0a2b9d251",
   "metadata": {},
   "outputs": [],
   "source": [
    "torch_arr2 = torch.as_tensor(arr)"
   ]
  },
  {
   "cell_type": "code",
   "execution_count": 11,
   "id": "c0814bd4-49e8-4aa6-a74e-75f1d8609d83",
   "metadata": {},
   "outputs": [
    {
     "data": {
      "text/plain": [
       "torch.Tensor"
      ]
     },
     "execution_count": 11,
     "metadata": {},
     "output_type": "execute_result"
    }
   ],
   "source": [
    "type(torch_arr2)"
   ]
  },
  {
   "cell_type": "code",
   "execution_count": 12,
   "id": "ba405d6e-3fef-47e1-b9b3-4416740372d6",
   "metadata": {},
   "outputs": [],
   "source": [
    "arr[0] = 999"
   ]
  },
  {
   "cell_type": "code",
   "execution_count": 13,
   "id": "52bb699b-83bc-4936-9350-4754ef6621f0",
   "metadata": {},
   "outputs": [
    {
     "data": {
      "text/plain": [
       "tensor([999,   2,   3,   4], dtype=torch.int32)"
      ]
     },
     "execution_count": 13,
     "metadata": {},
     "output_type": "execute_result"
    }
   ],
   "source": [
    "torch_arr"
   ]
  },
  {
   "cell_type": "markdown",
   "id": "0fc86e47-d26e-448c-a409-4389e3634cd0",
   "metadata": {},
   "source": [
    "Ana dizide yaptığımız değişiklikler ardından oluşturduğumuz torch dizilerine de etki ediyor. Eğer bunun oluşmasını istemiyorsak:"
   ]
  },
  {
   "cell_type": "code",
   "execution_count": 15,
   "id": "99147f92-4451-4ca1-a5d4-84067291aa02",
   "metadata": {},
   "outputs": [],
   "source": [
    "torch_arr3 = torch.tensor(arr)"
   ]
  },
  {
   "cell_type": "code",
   "execution_count": 16,
   "id": "de9972f6-5961-4dff-b92a-1bd1a4eade35",
   "metadata": {},
   "outputs": [
    {
     "data": {
      "text/plain": [
       "tensor([999,   2,   3,   4], dtype=torch.int32)"
      ]
     },
     "execution_count": 16,
     "metadata": {},
     "output_type": "execute_result"
    }
   ],
   "source": [
    "torch_arr3"
   ]
  },
  {
   "cell_type": "code",
   "execution_count": 17,
   "id": "ab3c9e4d-6761-4ba8-ab90-89b1e5187b97",
   "metadata": {},
   "outputs": [],
   "source": [
    "arr[0] = 8989"
   ]
  },
  {
   "cell_type": "code",
   "execution_count": 18,
   "id": "775dad26-226d-49d6-8be9-f71351ad93e5",
   "metadata": {},
   "outputs": [
    {
     "data": {
      "text/plain": [
       "tensor([8989,    2,    3,    4], dtype=torch.int32)"
      ]
     },
     "execution_count": 18,
     "metadata": {},
     "output_type": "execute_result"
    }
   ],
   "source": [
    "torch_arr"
   ]
  },
  {
   "cell_type": "code",
   "execution_count": 19,
   "id": "5d2868f2-638a-4bbe-b8de-b73db83e47ad",
   "metadata": {},
   "outputs": [
    {
     "data": {
      "text/plain": [
       "tensor([999,   2,   3,   4], dtype=torch.int32)"
      ]
     },
     "execution_count": 19,
     "metadata": {},
     "output_type": "execute_result"
    }
   ],
   "source": [
    "torch_arr3"
   ]
  },
  {
   "cell_type": "markdown",
   "id": "14814144-5b78-46ab-87d0-9fe279a07919",
   "metadata": {},
   "source": [
    "## Sonuç"
   ]
  },
  {
   "cell_type": "markdown",
   "id": "7e2bc449-8d26-4ae5-9775-e8c07281d18a",
   "metadata": {},
   "source": [
    "numpy kütüphanesinden pytorch kütüphanesine dönüşüm için 3 yöntem vardır.\n",
    "- 1. Yöntem: data = torch.from_numpy(array)\n",
    "- 2. Yöntem: data = torch.as_tensor(array)\n",
    "- 3. Yöntem: data = torch.tensor(array)"
   ]
  },
  {
   "cell_type": "code",
   "execution_count": null,
   "id": "a6accf72-a307-4764-8cb4-29c77c22c945",
   "metadata": {},
   "outputs": [],
   "source": []
  }
 ],
 "metadata": {
  "kernelspec": {
   "display_name": "Python 3 (ipykernel)",
   "language": "python",
   "name": "python3"
  },
  "language_info": {
   "codemirror_mode": {
    "name": "ipython",
    "version": 3
   },
   "file_extension": ".py",
   "mimetype": "text/x-python",
   "name": "python",
   "nbconvert_exporter": "python",
   "pygments_lexer": "ipython3",
   "version": "3.7.3"
  }
 },
 "nbformat": 4,
 "nbformat_minor": 5
}
