{
 "cells": [
  {
   "cell_type": "code",
   "execution_count": 1,
   "id": "fa94e7ae-ef4d-42d0-b197-c47e68adfe99",
   "metadata": {},
   "outputs": [],
   "source": [
    "import torch"
   ]
  },
  {
   "cell_type": "markdown",
   "id": "8e527482-03c0-41b7-a453-636992cde1d9",
   "metadata": {},
   "source": [
    "Uniform Dağılımlı"
   ]
  },
  {
   "cell_type": "code",
   "execution_count": 3,
   "id": "d7804a30-db7b-4a86-90d2-f2a83178bc14",
   "metadata": {},
   "outputs": [
    {
     "data": {
      "text/plain": [
       "tensor([[0.9117, 0.7279, 0.7827],\n",
       "        [0.7805, 0.7186, 0.3209],\n",
       "        [0.7116, 0.0248, 0.4385],\n",
       "        [0.8064, 0.0901, 0.9427]])"
      ]
     },
     "execution_count": 3,
     "metadata": {},
     "output_type": "execute_result"
    }
   ],
   "source": [
    " torch.rand(4,3)"
   ]
  },
  {
   "cell_type": "markdown",
   "id": "f7765c14-1237-488c-adea-16db855ba232",
   "metadata": {},
   "source": [
    "Normal Dağılımlı (standart sapması 1 ve ortalaması 0)"
   ]
  },
  {
   "cell_type": "code",
   "execution_count": 4,
   "id": "5506efb0-c54a-4387-81c8-61bcbb4c95fa",
   "metadata": {},
   "outputs": [
    {
     "data": {
      "text/plain": [
       "tensor([[ 0.1262, -0.7286,  0.2502],\n",
       "        [-1.6515,  0.8421,  0.8940]])"
      ]
     },
     "execution_count": 4,
     "metadata": {},
     "output_type": "execute_result"
    }
   ],
   "source": [
    "torch.randn(2,3)"
   ]
  },
  {
   "cell_type": "code",
   "execution_count": 5,
   "id": "99a7316b-6cb4-4a98-a37f-5dcfd1d5786e",
   "metadata": {},
   "outputs": [
    {
     "data": {
      "text/plain": [
       "tensor([[10, 10, 10,  6,  8],\n",
       "        [ 2,  3,  6,  7,  2],\n",
       "        [ 7,  2,  4,  8,  5],\n",
       "        [ 9,  4,  4, 10,  8],\n",
       "        [ 4,  9,  5,  8,  6]])"
      ]
     },
     "execution_count": 5,
     "metadata": {},
     "output_type": "execute_result"
    }
   ],
   "source": [
    "torch.randint(low=2, high=11, size=(5,5))"
   ]
  },
  {
   "cell_type": "code",
   "execution_count": 6,
   "id": "a5e008eb-7039-44d5-b29e-67c43061e610",
   "metadata": {},
   "outputs": [
    {
     "data": {
      "text/plain": [
       "tensor([[0., 0., 0., 0., 0.],\n",
       "        [0., 0., 0., 0., 0.]])"
      ]
     },
     "execution_count": 6,
     "metadata": {},
     "output_type": "execute_result"
    }
   ],
   "source": [
    "x = torch.zeros(2,5)\n",
    "x"
   ]
  },
  {
   "cell_type": "code",
   "execution_count": 7,
   "id": "94a84243-6298-4098-8fd8-bb7d48f68b35",
   "metadata": {},
   "outputs": [
    {
     "data": {
      "text/plain": [
       "torch.Size([2, 5])"
      ]
     },
     "execution_count": 7,
     "metadata": {},
     "output_type": "execute_result"
    }
   ],
   "source": [
    "x.shape"
   ]
  },
  {
   "cell_type": "markdown",
   "id": "ace1a4b9-4ce3-4884-96bc-f022b2fd6c73",
   "metadata": {},
   "source": [
    "rand_like veya randn_like ile içine yazdığımız dizinin boyut özelliklerini alarak normal ve uniform dağılımlı matrisler oluşturur."
   ]
  },
  {
   "cell_type": "code",
   "execution_count": 10,
   "id": "f9e2f264-c96f-485a-8eb1-535fb39bd2c8",
   "metadata": {},
   "outputs": [
    {
     "data": {
      "text/plain": [
       "tensor([[0.6567, 0.8603, 0.3309, 0.4493, 0.7320],\n",
       "        [0.4081, 0.0552, 0.8622, 0.9406, 0.2673]])"
      ]
     },
     "execution_count": 10,
     "metadata": {},
     "output_type": "execute_result"
    }
   ],
   "source": [
    "torch.rand_like(x)"
   ]
  },
  {
   "cell_type": "code",
   "execution_count": 9,
   "id": "ada903b1-f472-4c03-887c-57b66588c1de",
   "metadata": {},
   "outputs": [
    {
     "data": {
      "text/plain": [
       "tensor([[ 0.3265, -0.0034, -1.0253,  1.9484,  0.2628],\n",
       "        [ 0.7081,  1.0329, -0.5918, -0.6109,  1.0676]])"
      ]
     },
     "execution_count": 9,
     "metadata": {},
     "output_type": "execute_result"
    }
   ],
   "source": [
    "torch.randn_like(x)"
   ]
  },
  {
   "cell_type": "code",
   "execution_count": 12,
   "id": "88f53d54-7a9f-4cfc-8728-eb6bb1978521",
   "metadata": {},
   "outputs": [
    {
     "data": {
      "text/plain": [
       "tensor([[8., 9., 7., 9., 6.],\n",
       "        [7., 8., 4., 2., 8.]])"
      ]
     },
     "execution_count": 12,
     "metadata": {},
     "output_type": "execute_result"
    }
   ],
   "source": [
    "torch.randint_like(x, low = 2, high = 10)"
   ]
  },
  {
   "cell_type": "code",
   "execution_count": 24,
   "id": "9c4b0136-c60d-4e63-a5ff-38f61256d867",
   "metadata": {},
   "outputs": [
    {
     "data": {
      "text/plain": [
       "<torch._C.Generator at 0x17ce7f9bd70>"
      ]
     },
     "execution_count": 24,
     "metadata": {},
     "output_type": "execute_result"
    }
   ],
   "source": []
  },
  {
   "cell_type": "code",
   "execution_count": 38,
   "id": "a1169e73-a286-496d-bde5-b6abbd5e2195",
   "metadata": {},
   "outputs": [
    {
     "data": {
      "text/plain": [
       "tensor([[0.1869, 0.9613],\n",
       "        [0.6834, 0.8988],\n",
       "        [0.0505, 0.5555],\n",
       "        [0.7861, 0.0566],\n",
       "        [0.7842, 0.1480]])"
      ]
     },
     "execution_count": 38,
     "metadata": {},
     "output_type": "execute_result"
    }
   ],
   "source": [
    "torch.manual_seed(45)\n",
    "a = torch.rand(5,2)\n",
    "a"
   ]
  },
  {
   "cell_type": "code",
   "execution_count": 31,
   "id": "903f6692-37ac-4dfd-ac00-823e845a4c54",
   "metadata": {},
   "outputs": [
    {
     "data": {
      "text/plain": [
       "tensor([[0.0388, 0.1037],\n",
       "        [0.4216, 0.2373],\n",
       "        [0.8111, 0.5340],\n",
       "        [0.6834, 0.6528],\n",
       "        [0.6123, 0.9834]])"
      ]
     },
     "execution_count": 31,
     "metadata": {},
     "output_type": "execute_result"
    }
   ],
   "source": [
    "torch.rand(5,2)"
   ]
  },
  {
   "cell_type": "code",
   "execution_count": 39,
   "id": "70cc5326-05f9-4df2-a1ac-c0eddb9529c3",
   "metadata": {},
   "outputs": [
    {
     "data": {
      "text/plain": [
       "tensor([[0.1869, 0.9613],\n",
       "        [0.6834, 0.8988],\n",
       "        [0.0505, 0.5555],\n",
       "        [0.7861, 0.0566],\n",
       "        [0.7842, 0.1480]])"
      ]
     },
     "execution_count": 39,
     "metadata": {},
     "output_type": "execute_result"
    }
   ],
   "source": [
    "a"
   ]
  },
  {
   "cell_type": "code",
   "execution_count": null,
   "id": "4fd04806-dea0-4c21-9868-5bec2af221dd",
   "metadata": {},
   "outputs": [],
   "source": []
  },
  {
   "cell_type": "code",
   "execution_count": null,
   "id": "a921ae9f-0188-42dc-a3e7-d93f21a15f1c",
   "metadata": {},
   "outputs": [],
   "source": []
  }
 ],
 "metadata": {
  "kernelspec": {
   "display_name": "Python 3 (ipykernel)",
   "language": "python",
   "name": "python3"
  },
  "language_info": {
   "codemirror_mode": {
    "name": "ipython",
    "version": 3
   },
   "file_extension": ".py",
   "mimetype": "text/x-python",
   "name": "python",
   "nbconvert_exporter": "python",
   "pygments_lexer": "ipython3",
   "version": "3.7.3"
  }
 },
 "nbformat": 4,
 "nbformat_minor": 5
}
