{
 "cells": [
  {
   "cell_type": "code",
   "execution_count": 1,
   "id": "77cf775e-c957-4a56-8fea-d3a4c2d7fe30",
   "metadata": {},
   "outputs": [],
   "source": [
    "import torch\n",
    "import numpy as np"
   ]
  },
  {
   "cell_type": "code",
   "execution_count": 2,
   "id": "722f8e2c-d2d4-40a6-ba35-33337d571c73",
   "metadata": {},
   "outputs": [],
   "source": [
    "arr = np.array([1,5,6,7])"
   ]
  },
  {
   "cell_type": "code",
   "execution_count": 3,
   "id": "ea80654d-af9a-4ca5-a984-95152266b521",
   "metadata": {},
   "outputs": [
    {
     "data": {
      "text/plain": [
       "tensor([1, 5, 6, 7], dtype=torch.int32)"
      ]
     },
     "execution_count": 3,
     "metadata": {},
     "output_type": "execute_result"
    }
   ],
   "source": [
    "tarr = torch.tensor(arr)\n",
    "tarr"
   ]
  },
  {
   "cell_type": "code",
   "execution_count": 4,
   "id": "26ec79d1-da10-4c9a-880c-3ba5892ec1ed",
   "metadata": {},
   "outputs": [
    {
     "data": {
      "text/plain": [
       "tensor([1., 5., 6., 7.])"
      ]
     },
     "execution_count": 4,
     "metadata": {},
     "output_type": "execute_result"
    }
   ],
   "source": [
    "tarr2 = torch.Tensor(arr)\n",
    "tarr2"
   ]
  },
  {
   "cell_type": "markdown",
   "id": "a392f71c-3f5d-46cc-a039-cd284b10402c",
   "metadata": {},
   "source": [
    "Tensor u t ve T ile yazmak farklıdır. tensor = int, Tensor = float"
   ]
  },
  {
   "cell_type": "code",
   "execution_count": 5,
   "id": "ffab6582-f0e1-477b-8a11-99a101d2d19c",
   "metadata": {},
   "outputs": [
    {
     "data": {
      "text/plain": [
       "tensor([1., 5., 6., 7.])"
      ]
     },
     "execution_count": 5,
     "metadata": {},
     "output_type": "execute_result"
    }
   ],
   "source": [
    "tarr3 = torch.FloatTensor(arr)\n",
    "tarr3"
   ]
  },
  {
   "cell_type": "markdown",
   "id": "0f6f4dba-9c8b-42d1-a65c-15f8b3b39004",
   "metadata": {},
   "source": [
    "son iki kod blogu aynı işlevi görüyor."
   ]
  },
  {
   "cell_type": "code",
   "execution_count": 6,
   "id": "c4821eca-addc-48cc-b304-c304b0bef438",
   "metadata": {},
   "outputs": [
    {
     "data": {
      "text/plain": [
       "tensor([[0.0000e+00, 0.0000e+00, 0.0000e+00],\n",
       "        [0.0000e+00, 0.0000e+00, 7.0065e-44]])"
      ]
     },
     "execution_count": 6,
     "metadata": {},
     "output_type": "execute_result"
    }
   ],
   "source": [
    "torch.empty(2,3)"
   ]
  },
  {
   "cell_type": "code",
   "execution_count": 7,
   "id": "502f9598-8418-48fe-b89f-716167498ce2",
   "metadata": {},
   "outputs": [
    {
     "data": {
      "text/plain": [
       "tensor([[0., 0., 0.],\n",
       "        [0., 0., 0.],\n",
       "        [0., 0., 0.]])"
      ]
     },
     "execution_count": 7,
     "metadata": {},
     "output_type": "execute_result"
    }
   ],
   "source": [
    "torch.zeros(3,3)"
   ]
  },
  {
   "cell_type": "code",
   "execution_count": 8,
   "id": "a1679844-f90e-4266-b020-7712e0a20215",
   "metadata": {},
   "outputs": [
    {
     "data": {
      "text/plain": [
       "tensor([[0, 0, 0],\n",
       "        [0, 0, 0],\n",
       "        [0, 0, 0]], dtype=torch.int32)"
      ]
     },
     "execution_count": 8,
     "metadata": {},
     "output_type": "execute_result"
    }
   ],
   "source": [
    "torch.zeros(3,3,dtype = torch.int32)"
   ]
  },
  {
   "cell_type": "code",
   "execution_count": 9,
   "id": "83775d8d-5bda-45c8-bb4d-ecaa570c9022",
   "metadata": {},
   "outputs": [
    {
     "data": {
      "text/plain": [
       "tensor([[1., 1.],\n",
       "        [1., 1.],\n",
       "        [1., 1.]])"
      ]
     },
     "execution_count": 9,
     "metadata": {},
     "output_type": "execute_result"
    }
   ],
   "source": [
    "torch.ones(3,2)"
   ]
  },
  {
   "cell_type": "code",
   "execution_count": 10,
   "id": "3ae1223e-9610-40fe-ae19-a26aa7db6c8f",
   "metadata": {},
   "outputs": [
    {
     "data": {
      "text/plain": [
       "tensor([[ 0,  2,  4],\n",
       "        [ 6,  8, 10],\n",
       "        [12, 14, 16]])"
      ]
     },
     "execution_count": 10,
     "metadata": {},
     "output_type": "execute_result"
    }
   ],
   "source": [
    "torch.arange(0,18,2).reshape(3,3)"
   ]
  },
  {
   "cell_type": "code",
   "execution_count": 11,
   "id": "271b9a86-9bc6-41de-bb79-7f738ead6270",
   "metadata": {},
   "outputs": [
    {
     "data": {
      "text/plain": [
       "tensor([ 1.0000,  1.8182,  2.6364,  3.4545,  4.2727,  5.0909,  5.9091,  6.7273,\n",
       "         7.5455,  8.3636,  9.1818, 10.0000])"
      ]
     },
     "execution_count": 11,
     "metadata": {},
     "output_type": "execute_result"
    }
   ],
   "source": [
    "torch.linspace(1,10,12)"
   ]
  },
  {
   "cell_type": "code",
   "execution_count": 12,
   "id": "7da20046-c1a1-409a-bf3d-cd2f849ed474",
   "metadata": {},
   "outputs": [
    {
     "data": {
      "text/plain": [
       "tensor([[ 1.0000,  1.8182,  2.6364],\n",
       "        [ 3.4545,  4.2727,  5.0909],\n",
       "        [ 5.9091,  6.7273,  7.5455],\n",
       "        [ 8.3636,  9.1818, 10.0000]])"
      ]
     },
     "execution_count": 12,
     "metadata": {},
     "output_type": "execute_result"
    }
   ],
   "source": [
    "torch.linspace(1,10,12).reshape(4,3)"
   ]
  },
  {
   "cell_type": "code",
   "execution_count": 13,
   "id": "f02bc431-5ad3-48fb-b359-f734ffa0dbba",
   "metadata": {},
   "outputs": [],
   "source": [
    "my_tensor = torch.tensor([5,6,7,6,5,4])"
   ]
  },
  {
   "cell_type": "code",
   "execution_count": 14,
   "id": "404fa436-7cea-4f1b-acd5-b791c58eaba3",
   "metadata": {},
   "outputs": [
    {
     "data": {
      "text/plain": [
       "torch.int64"
      ]
     },
     "execution_count": 14,
     "metadata": {},
     "output_type": "execute_result"
    }
   ],
   "source": [
    "my_tensor.dtype"
   ]
  },
  {
   "cell_type": "code",
   "execution_count": 16,
   "id": "63ced544-0d71-4845-9d75-a787fa6b595c",
   "metadata": {},
   "outputs": [
    {
     "data": {
      "text/plain": [
       "tensor([5., 6., 7., 6., 5., 4.], dtype=torch.float16)"
      ]
     },
     "execution_count": 16,
     "metadata": {},
     "output_type": "execute_result"
    }
   ],
   "source": [
    "my_tensor.type(torch.float16)"
   ]
  },
  {
   "cell_type": "code",
   "execution_count": null,
   "id": "dcf4af9a-864b-4c7b-8fb0-779454fe6cd6",
   "metadata": {},
   "outputs": [],
   "source": []
  }
 ],
 "metadata": {
  "kernelspec": {
   "display_name": "Python 3 (ipykernel)",
   "language": "python",
   "name": "python3"
  },
  "language_info": {
   "codemirror_mode": {
    "name": "ipython",
    "version": 3
   },
   "file_extension": ".py",
   "mimetype": "text/x-python",
   "name": "python",
   "nbconvert_exporter": "python",
   "pygments_lexer": "ipython3",
   "version": "3.7.3"
  }
 },
 "nbformat": 4,
 "nbformat_minor": 5
}
