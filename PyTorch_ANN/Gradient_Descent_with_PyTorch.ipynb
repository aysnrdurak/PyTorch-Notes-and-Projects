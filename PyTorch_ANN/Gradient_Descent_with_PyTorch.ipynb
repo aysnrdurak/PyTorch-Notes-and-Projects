{
 "cells": [
  {
   "cell_type": "code",
   "execution_count": 1,
   "id": "255ea78d-f231-4c60-91d0-8dc766801734",
   "metadata": {},
   "outputs": [],
   "source": [
    "import torch"
   ]
  },
  {
   "cell_type": "code",
   "execution_count": 3,
   "id": "76ec73c0-8df9-4215-974e-a6b42d16d4d0",
   "metadata": {},
   "outputs": [],
   "source": [
    "x = torch.tensor(2.0, requires_grad = True) #requires true işlemi türevlenebilir olduğunu belirtir."
   ]
  },
  {
   "cell_type": "code",
   "execution_count": 4,
   "id": "8466fcf7-bc28-4800-9705-5e9a1c6aeaac",
   "metadata": {},
   "outputs": [],
   "source": [
    "y = 2*x**4 + x**3 + 3*x**2 + 5*x + 1"
   ]
  },
  {
   "cell_type": "code",
   "execution_count": 5,
   "id": "2f86fbd9-054a-4655-8aec-d35be0eaa064",
   "metadata": {},
   "outputs": [
    {
     "data": {
      "text/plain": [
       "tensor(63., grad_fn=<AddBackward0>)"
      ]
     },
     "execution_count": 5,
     "metadata": {},
     "output_type": "execute_result"
    }
   ],
   "source": [
    "y"
   ]
  },
  {
   "cell_type": "code",
   "execution_count": 6,
   "id": "6101a840-b0af-4cea-9b3c-bf9cb02474fc",
   "metadata": {},
   "outputs": [],
   "source": [
    "y.backward()"
   ]
  },
  {
   "cell_type": "code",
   "execution_count": 8,
   "id": "ae950888-e82f-41e3-9c1d-165f1c1f63bb",
   "metadata": {},
   "outputs": [
    {
     "data": {
      "text/plain": [
       "tensor(93.)"
      ]
     },
     "execution_count": 8,
     "metadata": {},
     "output_type": "execute_result"
    }
   ],
   "source": [
    "x.grad #türevi aldık"
   ]
  },
  {
   "cell_type": "code",
   "execution_count": 11,
   "id": "1a2f5c5c-1bae-46a0-94b1-f4a5a234611b",
   "metadata": {},
   "outputs": [],
   "source": [
    "x = torch.tensor([[1., 2., 3.], [3., 2., 1.]], requires_grad = True)"
   ]
  },
  {
   "cell_type": "code",
   "execution_count": 10,
   "id": "cf6d0c26-849b-4fa3-bb30-18b382949b09",
   "metadata": {},
   "outputs": [
    {
     "data": {
      "text/plain": [
       "tensor([[1., 2., 3.],\n",
       "        [3., 2., 1.]])"
      ]
     },
     "execution_count": 10,
     "metadata": {},
     "output_type": "execute_result"
    }
   ],
   "source": [
    "x"
   ]
  },
  {
   "cell_type": "code",
   "execution_count": 12,
   "id": "f89c125f-91de-408d-a597-2c06139fe91c",
   "metadata": {},
   "outputs": [],
   "source": [
    " y = 3*x +2"
   ]
  },
  {
   "cell_type": "code",
   "execution_count": 13,
   "id": "3926982f-9a20-4d57-9c85-77cb969e138d",
   "metadata": {},
   "outputs": [],
   "source": [
    "z = 2*y**2"
   ]
  },
  {
   "cell_type": "code",
   "execution_count": 14,
   "id": "1a5430fa-9be6-44b5-a0eb-3ff661c7a02d",
   "metadata": {},
   "outputs": [],
   "source": [
    "out = z.mean()"
   ]
  },
  {
   "cell_type": "code",
   "execution_count": 15,
   "id": "4886873d-a6d3-462f-a5c6-714338134b34",
   "metadata": {},
   "outputs": [
    {
     "data": {
      "text/plain": [
       "tensor(140., grad_fn=<MeanBackward0>)"
      ]
     },
     "execution_count": 15,
     "metadata": {},
     "output_type": "execute_result"
    }
   ],
   "source": [
    "out"
   ]
  },
  {
   "cell_type": "code",
   "execution_count": 16,
   "id": "e2404ad6-69d4-472f-8d14-a2664f397039",
   "metadata": {},
   "outputs": [],
   "source": [
    "out.backward()"
   ]
  },
  {
   "cell_type": "code",
   "execution_count": 17,
   "id": "bd041489-cfa8-483f-ab58-687d2aebe0af",
   "metadata": {},
   "outputs": [
    {
     "data": {
      "text/plain": [
       "tensor([[10., 16., 22.],\n",
       "        [22., 16., 10.]])"
      ]
     },
     "execution_count": 17,
     "metadata": {},
     "output_type": "execute_result"
    }
   ],
   "source": [
    "x.grad"
   ]
  },
  {
   "cell_type": "code",
   "execution_count": null,
   "id": "74cd2d54-b1a8-451d-b347-e4033acf348a",
   "metadata": {},
   "outputs": [],
   "source": []
  }
 ],
 "metadata": {
  "kernelspec": {
   "display_name": "Python 3 (ipykernel)",
   "language": "python",
   "name": "python3"
  },
  "language_info": {
   "codemirror_mode": {
    "name": "ipython",
    "version": 3
   },
   "file_extension": ".py",
   "mimetype": "text/x-python",
   "name": "python",
   "nbconvert_exporter": "python",
   "pygments_lexer": "ipython3",
   "version": "3.7.3"
  }
 },
 "nbformat": 4,
 "nbformat_minor": 5
}
